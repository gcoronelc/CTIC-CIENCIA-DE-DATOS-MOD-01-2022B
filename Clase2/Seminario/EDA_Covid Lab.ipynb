{
 "cells": [
  {
   "cell_type": "markdown",
   "id": "0f3dcea0",
   "metadata": {},
   "source": [
    "<div style=\"text-align: center\"><H1>CTIC - UNIVERSIDAD NACIONAL DE INGENIERIA</H1> </div>\n",
    "<img src=\"LogoUNI_small2.png\">\n",
    "<div style=\"text-align: center\"><H1>Ciencia de Datos</H1> </div>\n",
    "<div style=\"text-align: center\"><H2>Introducción al Proceso Análisis y Exploración de Datos</H2> </div>\n",
    "<div style=\"text-align: center\"><H3>Profesor: Juan Luis Herencia Guerra</H3> </div>\n",
    "<div style=\"text-align: right\"><H4>22 de mayo de 2022</H4> </div>"
   ]
  },
  {
   "cell_type": "code",
   "execution_count": null,
   "id": "f8a90413",
   "metadata": {},
   "outputs": [],
   "source": [
    "import pandas as pd"
   ]
  },
  {
   "cell_type": "code",
   "execution_count": null,
   "id": "3aa77c5a",
   "metadata": {},
   "outputs": [],
   "source": [
    "df_fallecidos = pd.read_csv('fallecidos_covid.csv', sep = ';')\n",
    "df_fallecidos"
   ]
  },
  {
   "cell_type": "code",
   "execution_count": null,
   "id": "e22cebe5",
   "metadata": {},
   "outputs": [],
   "source": [
    "df_fallecidos.shape"
   ]
  },
  {
   "cell_type": "code",
   "execution_count": null,
   "id": "c30d1bf1",
   "metadata": {},
   "outputs": [],
   "source": [
    "df_fallecidos.index"
   ]
  },
  {
   "cell_type": "code",
   "execution_count": null,
   "id": "9322eb82",
   "metadata": {},
   "outputs": [],
   "source": [
    "df_fallecidos.columns"
   ]
  },
  {
   "cell_type": "code",
   "execution_count": null,
   "id": "62a39426",
   "metadata": {
    "scrolled": true
   },
   "outputs": [],
   "source": [
    "df_fallecidos.info()"
   ]
  },
  {
   "cell_type": "code",
   "execution_count": null,
   "id": "1a0e659b",
   "metadata": {},
   "outputs": [],
   "source": [
    "# Verificando si faltan valores\n",
    "df_fallecidos.isna().sum()"
   ]
  },
  {
   "cell_type": "code",
   "execution_count": null,
   "id": "549dcf94",
   "metadata": {
    "scrolled": false
   },
   "outputs": [],
   "source": [
    "df_fallecidos.groupby(['DEPARTAMENTO']).count()[['UUID']]"
   ]
  },
  {
   "cell_type": "code",
   "execution_count": null,
   "id": "71a99eaa",
   "metadata": {},
   "outputs": [],
   "source": [
    "ax = df_fallecidos.groupby(['DEPARTAMENTO']).count()[['UUID']].plot(kind = 'bar', figsize=(20,10), grid=True, fontsize = 14, \n",
    "                                                               title = 'Fallecidos por departamento')\n",
    "ax.set_ylabel('FALLECIDOS')"
   ]
  },
  {
   "cell_type": "code",
   "execution_count": null,
   "id": "a77687eb",
   "metadata": {},
   "outputs": [],
   "source": [
    "df_fallecidos.pivot_table(index=['PROVINCIA'], columns=['FECHA_FALLECIMIENTO'], aggfunc = {'UUID':'count'}, fill_value = 0)"
   ]
  },
  {
   "cell_type": "code",
   "execution_count": null,
   "id": "87cddf6e",
   "metadata": {},
   "outputs": [],
   "source": [
    "df_fallecidos.pivot_table(index=['PROVINCIA'], columns=['FECHA_FALLECIMIENTO'], aggfunc = {'UUID':'count'}, fill_value = 0).transpose()"
   ]
  },
  {
   "cell_type": "code",
   "execution_count": null,
   "id": "731ce9a6",
   "metadata": {
    "scrolled": false
   },
   "outputs": [],
   "source": [
    "df_por_prov = df_fallecidos.pivot_table(index=['PROVINCIA'], columns=['FECHA_FALLECIMIENTO'], aggfunc = {'UUID':'count'}, fill_value = 0).transpose()\n",
    "df_por_prov"
   ]
  },
  {
   "cell_type": "code",
   "execution_count": null,
   "id": "0d994ad1",
   "metadata": {
    "scrolled": false
   },
   "outputs": [],
   "source": [
    "prov = ['LIMA', 'TRUJILLO', 'CUSCO', 'ICA']\n",
    "ax = df_por_prov[prov].plot(figsize=(20,10), grid=True, fontsize = 14)\n",
    "ax.set_xlabel('Fecha', fontsize = 20)\n",
    "ax.set_ylabel('Fallecidos por día y provincia', fontsize = 20);"
   ]
  },
  {
   "cell_type": "code",
   "execution_count": null,
   "id": "dee6f34d",
   "metadata": {},
   "outputs": [],
   "source": [
    "# Evolución diaria de los fallecidos\n",
    "# df_por_prov.sum(axis=1) es la suma de cada fila\n",
    "ax = df_por_prov.sum(axis=1).plot(figsize=(20,10), grid=True, fontsize = 14)\n",
    "ax.set_xlabel('Fecha', fontsize = 20)\n",
    "ax.set_ylabel('Total de Fallecidos por día', fontsize = 20)"
   ]
  },
  {
   "cell_type": "code",
   "execution_count": null,
   "id": "7277cb56",
   "metadata": {},
   "outputs": [],
   "source": [
    "df_fallecidos"
   ]
  },
  {
   "cell_type": "code",
   "execution_count": null,
   "id": "097bdc8b",
   "metadata": {},
   "outputs": [],
   "source": [
    "df_fallecidos['DIA'] = df_fallecidos['FECHA_FALLECIMIENTO'] % 100"
   ]
  },
  {
   "cell_type": "code",
   "execution_count": null,
   "id": "5895516a",
   "metadata": {},
   "outputs": [],
   "source": [
    "df_fallecidos['MES'] = (df_fallecidos['FECHA_FALLECIMIENTO'] // 100) % 100"
   ]
  },
  {
   "cell_type": "code",
   "execution_count": null,
   "id": "1b462afa",
   "metadata": {},
   "outputs": [],
   "source": [
    "df_fallecidos['AÑO'] = (df_fallecidos['FECHA_FALLECIMIENTO'] // 100) // 100"
   ]
  },
  {
   "cell_type": "code",
   "execution_count": null,
   "id": "c55a5c3e",
   "metadata": {
    "scrolled": false
   },
   "outputs": [],
   "source": [
    "df_fallecidos"
   ]
  },
  {
   "cell_type": "code",
   "execution_count": null,
   "id": "f56c650d",
   "metadata": {
    "scrolled": false
   },
   "outputs": [],
   "source": [
    "df_por_dist = df_fallecidos[df_fallecidos['PROVINCIA'] == 'LIMA'].pivot_table(index=['DISTRITO'], columns=['FECHA_FALLECIMIENTO'], aggfunc = {'UUID':'count'}, fill_value = 0)\n",
    "df_por_dist"
   ]
  },
  {
   "cell_type": "code",
   "execution_count": null,
   "id": "da669854",
   "metadata": {
    "scrolled": false
   },
   "outputs": [],
   "source": [
    "df_por_dist = df_por_dist.transpose()\n",
    "df_por_dist"
   ]
  },
  {
   "cell_type": "code",
   "execution_count": null,
   "id": "0f98c761",
   "metadata": {},
   "outputs": [],
   "source": [
    "# Todos los distritos\n",
    "ax = df_por_dist.plot(figsize=(20,10), grid=True)\n",
    "ax.set_xlabel('Fecha', fontsize = 14)\n",
    "ax.set_ylabel('Total de Fallecidos por día y por distrito', fontsize = 14)"
   ]
  },
  {
   "cell_type": "code",
   "execution_count": null,
   "id": "6cceecfd",
   "metadata": {},
   "outputs": [],
   "source": [
    "# Atravesando Lima de Norte a Sur\n",
    "dist = ['CARABAYLLO', 'SAN MARTIN DE PORRES', 'LIMA', 'MIRAFLORES', 'BARRANCO']\n",
    "ax = df_por_dist[dist].plot(figsize=(20,10), grid=True, fontsize = 14)\n",
    "ax.set_xlabel('Fecha', fontsize = 14)\n",
    "ax.set_ylabel('Total de Fallecidos por día y por distrito', fontsize = 14)"
   ]
  },
  {
   "cell_type": "code",
   "execution_count": null,
   "id": "ff30a8f4",
   "metadata": {},
   "outputs": [],
   "source": [
    "# revisando nuevamente\n",
    "df_por_prov"
   ]
  },
  {
   "cell_type": "code",
   "execution_count": null,
   "id": "8eaac493",
   "metadata": {},
   "outputs": [],
   "source": [
    "# Eliminar el multindex\n",
    "df_por_prov = df_por_prov.reset_index()\n",
    "df_por_prov"
   ]
  },
  {
   "cell_type": "code",
   "execution_count": null,
   "id": "1953e269",
   "metadata": {},
   "outputs": [],
   "source": [
    "df_por_prov = df_por_prov.drop(columns=['level_0'])\n",
    "df_por_prov"
   ]
  },
  {
   "cell_type": "code",
   "execution_count": null,
   "id": "5cb6320b",
   "metadata": {},
   "outputs": [],
   "source": [
    "# Llevando a fecha\n",
    "def to_date_str(txt):\n",
    "    return txt[6:8] +'/'+txt[4:6] + '/'+ txt[0:4]\n",
    "\n",
    "to_date_str('20220411')"
   ]
  },
  {
   "cell_type": "code",
   "execution_count": null,
   "id": "5bec61fb",
   "metadata": {},
   "outputs": [],
   "source": [
    "#Llevando a string, dicho string a fecha\n",
    "df_por_prov['FECHA_FALLECIMIENTO'] = df_por_prov['FECHA_FALLECIMIENTO'].apply(str).apply(to_date_str)\n",
    "df_por_prov['FECHA_FALLECIMIENTO']"
   ]
  },
  {
   "cell_type": "code",
   "execution_count": null,
   "id": "1678685e",
   "metadata": {},
   "outputs": [],
   "source": [
    "# Llevando a date\n",
    "df_por_prov['FECHA_FALLECIMIENTO'] = pd.to_datetime(df_por_prov['FECHA_FALLECIMIENTO'], format='%d/%m/%Y')\n",
    "df_por_prov['FECHA_FALLECIMIENTO']"
   ]
  },
  {
   "cell_type": "code",
   "execution_count": null,
   "id": "6e92bcca",
   "metadata": {},
   "outputs": [],
   "source": [
    "df_por_prov"
   ]
  },
  {
   "cell_type": "code",
   "execution_count": null,
   "id": "daa2b0de",
   "metadata": {
    "scrolled": false
   },
   "outputs": [],
   "source": [
    "# reindexando\n",
    "df_por_prov = df_por_prov.set_index('FECHA_FALLECIMIENTO') #, inplace = True)\n",
    "df_por_prov"
   ]
  },
  {
   "cell_type": "code",
   "execution_count": null,
   "id": "2833ef05",
   "metadata": {},
   "outputs": [],
   "source": [
    "# Se agrega los dias faltantes para una frecuencia diaria \n",
    "df_por_prov = df_por_prov.asfreq('D')\n",
    "df_por_prov"
   ]
  },
  {
   "cell_type": "code",
   "execution_count": null,
   "id": "2df144e3",
   "metadata": {},
   "outputs": [],
   "source": [
    "# Se confirma que los índices fecha este completos\n",
    "# Verificar que un índice temporal está completo\n",
    "# ==============================================================================\n",
    "(df_por_prov.index == pd.date_range(\n",
    "                    start = df_por_prov.index.min(),\n",
    "                    end   = df_por_prov.index.max(),\n",
    "                    freq  = df_por_prov.index.freq)\n",
    ").all()"
   ]
  },
  {
   "cell_type": "code",
   "execution_count": null,
   "id": "39a39a57",
   "metadata": {},
   "outputs": [],
   "source": [
    "df_por_prov.shape"
   ]
  },
  {
   "cell_type": "code",
   "execution_count": null,
   "id": "b2696de1",
   "metadata": {},
   "outputs": [],
   "source": [
    "items = df_por_prov.shape[0]\n",
    "items"
   ]
  },
  {
   "cell_type": "code",
   "execution_count": null,
   "id": "96358653",
   "metadata": {},
   "outputs": [],
   "source": [
    "entrenamiento = df_por_prov[:items//2]\n",
    "entrenamiento"
   ]
  },
  {
   "cell_type": "code",
   "execution_count": null,
   "id": "2dd264d0",
   "metadata": {},
   "outputs": [],
   "source": [
    "pruebas = df_por_prov[items//2:]\n",
    "pruebas"
   ]
  },
  {
   "cell_type": "code",
   "execution_count": null,
   "id": "e21c9131",
   "metadata": {},
   "outputs": [],
   "source": [
    "print(f\"Fechas Entrenamiento : desde {entrenamiento.index.min()} hasta {entrenamiento.index.max()}  (n={len(entrenamiento)})\")\n",
    "print(f\"Fechas Pruebas  : desde {pruebas.index.min()} hasta {pruebas.index.max()}  (n={len(pruebas)})\")"
   ]
  },
  {
   "cell_type": "code",
   "execution_count": null,
   "id": "00ae413f",
   "metadata": {
    "scrolled": false
   },
   "outputs": [],
   "source": [
    "# Solo Lima\n",
    "fig, ax = plt.subplots(figsize=(20, 10))\n",
    "entrenamiento['LIMA'].plot(ax=ax, label='Entrenamiento')\n",
    "pruebas['LIMA'].plot(ax=ax, label='pruebas')\n",
    "ax.legend();"
   ]
  },
  {
   "cell_type": "code",
   "execution_count": null,
   "id": "052705fb",
   "metadata": {},
   "outputs": [],
   "source": []
  }
 ],
 "metadata": {
  "kernelspec": {
   "display_name": "Python 3 (ipykernel)",
   "language": "python",
   "name": "python3"
  },
  "language_info": {
   "codemirror_mode": {
    "name": "ipython",
    "version": 3
   },
   "file_extension": ".py",
   "mimetype": "text/x-python",
   "name": "python",
   "nbconvert_exporter": "python",
   "pygments_lexer": "ipython3",
   "version": "3.9.7"
  }
 },
 "nbformat": 4,
 "nbformat_minor": 5
}
